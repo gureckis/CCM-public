{
 "cells": [
  {
   "cell_type": "markdown",
   "metadata": {},
   "source": [
    "# Homework - Neural networks - Part A (35 points)\n",
    "\n",
    "## Interactive activation and competition\n"
   ]
  },
  {
   "cell_type": "markdown",
   "metadata": {},
   "source": [
    "by _Brenden Lake_ and _Todd Gureckis_  \n",
    "Computational Cognitive Modeling  \n",
    "NYU class webpage: https://teaching.gureckislab.org/ccm\n"
   ]
  },
  {
   "cell_type": "markdown",
   "metadata": {},
   "source": [
    "<div class=\"alert alert-danger\" role=\"alert\">\n",
    "This homework is due before midnight on Friday, Sept. 27, 2024.\n",
    "</div>\n"
   ]
  },
  {
   "cell_type": "markdown",
   "metadata": {},
   "source": [
    "<div class=\"alert alert-warning\" role=\"alert\">\n",
    "  <strong>Note:</strong><br> \n",
    "    Please complete the responses to these questions as a markdown cell inserted beneath the question prompts.\n",
    "</div>\n"
   ]
  },
  {
   "cell_type": "markdown",
   "metadata": {},
   "source": [
    "In this assignment, you will get hands on experience with a classic neural\n",
    "network model of memory known as the Interactive Activation and Competition\n",
    "(IAC) model. We will go through a series of exercises that will stretch your\n",
    "understanding of the IAC model in various ways. The exercises below examine\n",
    "how the mechanisms of interactive activation and competition can be used to\n",
    "illustrate two key properties of human memory:\n",
    "\n",
    "- Retrieval by name and by content.\n",
    "- Spontaneous generalization over a set of familiar items.\n"
   ]
  },
  {
   "cell_type": "markdown",
   "metadata": {},
   "source": [
    "<div class=\"alert alert-info\">\n",
    "These exercises are from Chapter 2 of the <a href=\"https://web.stanford.edu/group/pdplab/pdphandbook/\">online PDP Handbook</a> by James McClelland.\n",
    "</div>\n"
   ]
  },
  {
   "cell_type": "markdown",
   "metadata": {},
   "source": [
    "**You should review the slides from lecture and read Section 2.1 of the PDP\n",
    "Handbook before continuing. This has important background and technical\n",
    "details on how the IAC model works.** The IAC model instantiates knowledge\n",
    "that someone may have from watching the 1960s musical “West Side Story,” where\n",
    "two gangs the “Jets” and “Sharks” struggle for neighborhood control in\n",
    "Manhattan. The “database” for this exercise is the Jets and Sharks data base\n",
    "shown in Figure 1, which has the central characters from the two gangs. You\n",
    "are to use the IAC model in conjunction with this data base to run\n",
    "illustrative simulations of these basic properties of memory.\n",
    "\n",
    "<img src=\"images/jetsandsharkstable.png\" width=\"400\">\n",
    "\n",
    "_Figure 1: Characteristics of a number of individuals belonging to two gangs,\n",
    "the Jets and the Sharks. (From “Retrieving General and Specific Knowledge From\n",
    "Stored Knowledge of Specifics” by J. L. McClelland, 1981, Proceedings of the\n",
    "Third Annual Conference of the Cognitive Science Society.)_\n"
   ]
  },
  {
   "cell_type": "markdown",
   "metadata": {},
   "source": [
    "## Software and architecture\n"
   ]
  },
  {
   "cell_type": "markdown",
   "metadata": {},
   "source": [
    "We will be using IAC software from Axel Cleeremans which you can download\n",
    "[here for Mac OS](https://cims.nyu.edu/~brenden/software/IAC11final.app.zip)\n",
    "and\n",
    "[here for Windows](https://cims.nyu.edu/~brenden/software/IACwindows64.zip).\n",
    "\n",
    "<img src=\"images/ss1.png\" width=\"400\">\n",
    "\n",
    "_Figure 2: Screen shot from Cleeremans’ IAC software. Units are organized into\n",
    "7 groups. For illustration here, all groups have a different color background,\n",
    "while the group of visible name units have no background._\n",
    "\n",
    "Upon downloading and loading the software, you will see a display that looks\n",
    "like Figure 2. The units are grouped into seven pools: a pool of _visible_\n",
    "name units, a pool of _gang_ units, a pool of _age_ units, a pool of\n",
    "_education_ units, a pool of _marital status_ units, a pool of _occupation_\n",
    "units, and a pool of _hidden_ units. The name pool contains a unit for the\n",
    "name of each person; the gang pool contains a unit for each of the gangs the\n",
    "people are members of (Jets and Sharks); the age pool contains a unit for each\n",
    "age range; and so on. Finally, the _hidden_ pool contains an instance unit for\n",
    "each individual in the set.\n",
    "\n",
    "The units in the first six pools can be called visible units, since all are\n",
    "assumed to be accessible from outside the network. Those in the gang, age,\n",
    "education, marital status, and occupation pools can also be called property\n",
    "units. The instance units are assumed to be inaccessible, so they can be\n",
    "called hidden units.\n",
    "\n",
    "<img src=\"images/jetsdiagram.png\" width=\"400\">\n",
    "\n",
    "_Figure 3: The units and connections for some of the individuals in Figure 1.\n",
    "The arrows represent excitatory connections. The outlined groups of units have\n",
    "mutually inhibitory connections (not shown). (From “Retrieving General and\n",
    "Specific Knowl- edge From Stored Knowledge of Specifics” by J. L. McClelland,\n",
    "1981, Proceedings of the Third Annual Conference of the Cognitive Science\n",
    "Society.)_\n",
    "\n",
    "Each unit has an inhibitory connection to every other unit in the same pool.\n",
    "In addition, there are two-way excitatory connections between each instance\n",
    "unit and the units for its properties, as illustrated in Figure 3. Note that\n",
    "the figure is incomplete, in that only some of the name and instance units are\n",
    "shown. These names are given only for the convenience of the user, of course;\n",
    "all actual computation in the network occurs only by way of the connections.\n",
    "You can also view the different connections using the IAC software by hovering\n",
    "your mouse over a particular unit (Figure 4).\n",
    "\n",
    "<img src=\"images/ss2.png\" width=\"400\">\n",
    "\n",
    "_Figure 4: You can view the connections to a unit by placing your mouse over\n",
    "it. Green connections are excitatory and red connections are inhibitory._\n",
    "\n",
    "Since everything is set up for you, you are now ready to do each of the\n",
    "separate parts of the exercise. Each part is accomplished by using the\n",
    "interactive activation and competition process to do pattern completion, given\n",
    "some probe that is presented to the network. For example, to retrieve an\n",
    "individual’s properties from his name, you simply provide external input to\n",
    "his name unit, then allow the IAC network to propagate activation first to the\n",
    "name unit, then from there to the instance units, and from there to the units\n",
    "for the properties of the instance.\n"
   ]
  },
  {
   "cell_type": "markdown",
   "metadata": {},
   "source": [
    "## Exercise: Retreiving an individual from his name\n"
   ]
  },
  {
   "cell_type": "markdown",
   "metadata": {},
   "source": [
    "To illustrate retrieval of the properties of an individual from his name, we\n",
    "will use Ken as our example. Make sure the simulation is paused (press SPACE)\n",
    "and press ‘r’ to reset it. Set the external input of Ken’s name unit to 1 by\n",
    "clicking on the name unit (not the hidden unit!). The circle’s background\n",
    "should turn bright green to represent the external input.\n",
    "\n",
    "A unit’s activity level can be visualized by the colored dot, where yellow\n",
    "dots are positive activation and red dots are negative activation. The larger\n",
    "the yellow dot, the stronger the activation. A unit’s precise activity level\n",
    "can examined by rolling the mouse over the unit.\n",
    "\n",
    "<img src=\"images/ss3.png\" width=\"400\">\n",
    "\n",
    "_Figure 5: The display screen after about 150 cycles with external input to\n",
    "the name unit for Ken._\n",
    "\n",
    "Press SPACE to unpause and allow the network to run for approximately 150\n",
    "cycles (the cycle counter is in the bottom left of the panel). The simulation\n",
    "runs quickly, so be sure to pause at about 150 cycles exactly! A picture of\n",
    "the screen after 150 cycles is shown in Figure 5. At this point, you can check\n",
    "to see that the model has indeed retrieved the pattern for Ken correctly.\n",
    "There are also several other things going on that are worth understanding.\n",
    "Answer all of the following questions below regarding the network at this\n",
    "state (you’ll have to refer to the properties of the individuals, as given in\n",
    "Figure 1).\n"
   ]
  },
  {
   "cell_type": "markdown",
   "metadata": {},
   "source": [
    "<div class=\"alert alert-success\" role=\"alert\">\n",
    "  <strong>Problem 1 (10 points)</strong> <br>\n",
    "  None of the visible name units other than Ken were activated, yet a few other hidden instance units are active (i.e., their activation is greater than 0). Explain why these units are active. Keep your response short (about 3 sentences).\n",
    "</div>\n"
   ]
  },
  {
   "cell_type": "markdown",
   "metadata": {},
   "source": [
    "YOUR RESPONSE GOES HERE... (Make new Markdown cell for each question)\n"
   ]
  },
  {
   "cell_type": "markdown",
   "metadata": {},
   "source": [
    "<div class=\"alert alert-success\" role=\"alert\">\n",
    "  <strong>Problem 2 (10 points)</strong> <br>\n",
    "  Some of Ken’s properties are activated more strongly than others. Why? Keep your response short (about 3 sentences).\n",
    "</div>\n"
   ]
  },
  {
   "cell_type": "markdown",
   "metadata": {},
   "source": [
    "## Retrieval from a partial description\n"
   ]
  },
  {
   "cell_type": "markdown",
   "metadata": {},
   "source": [
    "Next, we will use the IAC software to illustrate how it can retrieve an\n",
    "instance from a partial description of its properties. We will continue to use\n",
    "Ken, who, as it happens, can be uniquely described by two properties, Shark\n",
    "and in20s. Reset the network (‘r’) and make sure everything is paused and that\n",
    "all units have input of 0. Click to set the external input of the Sharks unit\n",
    "and the in20s unit to 1.00. Run a total of 150 cycles again, and take a look\n",
    "at the state of the network.\n",
    "\n",
    "Of all of the visible name units, Ken’s name should be the most active.\n",
    "Compare the state of the network’s with the a screen shot of the previous\n",
    "network state when activating Ken’s name directly, such as that in Figure 5.\n"
   ]
  },
  {
   "cell_type": "markdown",
   "metadata": {},
   "source": [
    "<div class=\"alert alert-success\" role=\"alert\">\n",
    "  <strong>Problem 3 (10 points)</strong> <br>\n",
    "  Explain why the occupation units show partial activations of units other than Ken’s occupation, which is Burglar. While being succinct, try to get to the bottom of this, and contrast the current case with the previous case. Keep your response short (about 3 sentences).\n",
    "\n",
    "</div>\n"
   ]
  },
  {
   "cell_type": "markdown",
   "metadata": {},
   "source": [
    "## Spontaneous generalization\n"
   ]
  },
  {
   "cell_type": "markdown",
   "metadata": {},
   "source": [
    "Now we consider the network’s ability to retrieve appropriate generalizations\n",
    "over sets of individuals—that is, its ability to answer questions like “What\n",
    "are Jets like?” or “What are people who are in their 20s and have only a\n",
    "junior high education like?” Reset (‘r’) the network. Make sure all units have\n",
    "input of 0 and none are highlighted green.\n",
    "\n",
    "Set the external input of Jets to 1.00 by clicking on it. Run the network for\n",
    "150 cycles and observe what happens.\n"
   ]
  },
  {
   "cell_type": "markdown",
   "metadata": {},
   "source": [
    "<div class=\"alert alert-success\" role=\"alert\">\n",
    "  <strong>Problem 4 (5 points)</strong> <br>\n",
    "  Given the network’s state, what can you infer about a typical Jet? (1-2 sentences is plenty).\n",
    "</div>\n"
   ]
  }
 ],
 "metadata": {
  "kernelspec": {
   "display_name": "Python 3 (ipykernel)",
   "language": "python",
   "name": "python3"
  },
  "language_info": {
   "codemirror_mode": {
    "name": "ipython",
    "version": 3
   },
   "file_extension": ".py",
   "mimetype": "text/x-python",
   "name": "python",
   "nbconvert_exporter": "python",
   "pygments_lexer": "ipython3",
   "version": "3.7.9"
  }
 },
 "nbformat": 4,
 "nbformat_minor": 2
}
